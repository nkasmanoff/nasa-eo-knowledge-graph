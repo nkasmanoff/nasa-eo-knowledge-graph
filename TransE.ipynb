{
 "cells": [
  {
   "cell_type": "markdown",
   "metadata": {},
   "source": [
    "Runs the TransE model on the knowledge graph obtained to recover and visualize the embeddings of the nhEvent knowledge extracted. \n",
    "\n",
    "Heavily inspired by https://www.youtube.com/watch?v=WlVa52xP-ug"
   ]
  },
  {
   "cell_type": "code",
   "execution_count": 7,
   "metadata": {},
   "outputs": [],
   "source": [
    "import pandas as pd\n",
    "import numpy as np\n",
    "import pylab as plt\n",
    "import torch.optim as optim\n",
    "import torch\n",
    "from copy import deepcopy\n",
    "from src.models import transE\n",
    "from src.utils import getBatchList, getBatch\n"
   ]
  },
  {
   "cell_type": "code",
   "execution_count": 4,
   "metadata": {},
   "outputs": [],
   "source": [
    "kg_df = pd.read_excel('data/nhEvent_kg_df.xlsx')"
   ]
  },
  {
   "cell_type": "code",
   "execution_count": 5,
   "metadata": {},
   "outputs": [],
   "source": [
    "data = []\n",
    "for _, row in kg_df.iterrows():\n",
    "    h = row['source']\n",
    "    r = row['edge']\n",
    "    t = row['target']\n",
    "    data.append((h, r, t))\n",
    "\n",
    "entityDic={k:n for n,k in enumerate(set([j for i in data for j in [i[0],i[-1]]]))}\n",
    "relationDic={k:n for n,k in enumerate(set([i[1] for i in data]))}\n",
    "entityDic_={k:n for n,k in entityDic.items()}\n",
    "relationDic_={k:n for n,k in relationDic.items()}\n"
   ]
  },
  {
   "cell_type": "code",
   "execution_count": 6,
   "metadata": {},
   "outputs": [],
   "source": [
    "\n",
    "category_Entity_Dic = {}\n",
    "for key in entityDic:\n",
    "    source_ent = kg_df[kg_df['source'] == key]\n",
    "    target_ent = kg_df[kg_df['target'] == key]\n",
    "    if source_ent.shape[0] > 0:\n",
    "        category_Entity_Dic[key] = source_ent['category'].unique().tolist()\n",
    "    if target_ent.shape[0] > 0:\n",
    "        if key in category_Entity_Dic:\n",
    "            category_Entity_Dic[key].extend(target_ent['category'].unique().tolist())\n",
    "        else:\n",
    "            category_Entity_Dic[key] = target_ent['category'].unique().tolist()\n",
    "\n",
    "\n",
    "category_Relation_Dic = {}\n",
    "for key in relationDic:\n",
    "    relation = kg_df[kg_df['edge'] == key]\n",
    "    category_Relation_Dic[key] = relation['category'].unique().tolist()\n",
    "\n"
   ]
  },
  {
   "cell_type": "code",
   "execution_count": 43,
   "metadata": {},
   "outputs": [
    {
     "data": {
      "text/html": [
       "<div>\n",
       "<style scoped>\n",
       "    .dataframe tbody tr th:only-of-type {\n",
       "        vertical-align: middle;\n",
       "    }\n",
       "\n",
       "    .dataframe tbody tr th {\n",
       "        vertical-align: top;\n",
       "    }\n",
       "\n",
       "    .dataframe thead th {\n",
       "        text-align: right;\n",
       "    }\n",
       "</style>\n",
       "<table border=\"1\" class=\"dataframe\">\n",
       "  <thead>\n",
       "    <tr style=\"text-align: right;\">\n",
       "      <th></th>\n",
       "      <th>source</th>\n",
       "      <th>target</th>\n",
       "      <th>edge</th>\n",
       "      <th>category</th>\n",
       "    </tr>\n",
       "  </thead>\n",
       "  <tbody>\n",
       "    <tr>\n",
       "      <th>1572</th>\n",
       "      <td>dense  cloud</td>\n",
       "      <td>southern Pacific September</td>\n",
       "      <td>blew across southern</td>\n",
       "      <td>['Earthquakes']</td>\n",
       "    </tr>\n",
       "  </tbody>\n",
       "</table>\n",
       "</div>"
      ],
      "text/plain": [
       "            source                      target                  edge  \\\n",
       "1572  dense  cloud  southern Pacific September  blew across southern   \n",
       "\n",
       "             category  \n",
       "1572  ['Earthquakes']  "
      ]
     },
     "execution_count": 43,
     "metadata": {},
     "output_type": "execute_result"
    }
   ],
   "source": [
    "# quick check:\n",
    "# this example does not really make sense as an earthquake, \n",
    "# hence the need for improved data prep! \n",
    "kg_df[kg_df['edge'] == 'blew across southern']"
   ]
  },
  {
   "cell_type": "code",
   "execution_count": 8,
   "metadata": {},
   "outputs": [
    {
     "name": "stdout",
     "output_type": "stream",
     "text": [
      "Loss at epo 0: 6.019544320028336\n",
      "Loss at epo 100: 2.531339379607654\n",
      "Loss at epo 200: 1.1204806155845768\n",
      "Loss at epo 300: 0.49215738108900725\n",
      "Loss at epo 400: 0.20907032294351546\n",
      "Loss at epo 500: 0.08516638493928753\n",
      "Loss at epo 600: 0.03357155853119053\n",
      "Loss at epo 700: 0.01309356685788905\n",
      "Loss at epo 800: 0.005164437515080952\n",
      "Loss at epo 900: 0.002087288009399762\n"
     ]
    }
   ],
   "source": [
    "\n",
    "\n",
    "entity_size=len(entityDic)\n",
    "relation_size=len(relationDic)\n",
    "embedding_size=2\n",
    "triples= [(entityDic[i],relationDic[j],entityDic[k]) for i,j,k in data]\n",
    "nBatch=10\n",
    "trainBatchList=getBatchList(triples, nBatch)\n",
    "transe = transE(entity_size, relation_size, embedding_size)\n",
    "\n",
    "# training\n",
    "num_epochs = 1000\n",
    "learning_rate = 0.001\n",
    "optimizer = optim.Adam(transe.parameters(), lr=learning_rate)\n",
    "Loss=[]\n",
    "posEnData={}\n",
    "posReData={}\n",
    "for epo in range(num_epochs):\n",
    "    total_loss = 0\n",
    "    for batchList in trainBatchList:\n",
    "        optimizer.zero_grad()\n",
    "        pos_h_batch, pos_r_batch, pos_t_batch, neg_h_batch,neg_r_batch, neg_t_batch=getBatch(batchList,entity_size)\n",
    "        pos_h_batch = torch.LongTensor(pos_h_batch)\n",
    "        pos_t_batch = torch.LongTensor(pos_t_batch)\n",
    "        pos_r_batch = torch.LongTensor(pos_r_batch)\n",
    "        neg_h_batch = torch.LongTensor(neg_h_batch)\n",
    "        neg_t_batch = torch.LongTensor(neg_t_batch)\n",
    "        neg_r_batch = torch.LongTensor(neg_r_batch)\n",
    "        \n",
    "        loss = transe(pos_h_batch, pos_r_batch, pos_t_batch, neg_h_batch,neg_r_batch, neg_t_batch)\n",
    "    \n",
    "        total_loss += loss.item()\n",
    "        loss.backward()\n",
    "        optimizer.step()\n",
    "        \n",
    "    if epo % 100 == 0:    \n",
    "        print(f'Loss at epo {epo}: {total_loss/len(triples)}')# print average loss within an epoch\n",
    "    posEnData[epo]=deepcopy(transe.W_en.weight.data.numpy()) #dictioanry of positive entity embedding, key:epo, value:embedding\n",
    "    posReData[epo]=deepcopy(transe.W_re.weight.data.numpy())#dictioanry of positive relation embedding, key:epo, value:embedding\n",
    "    Loss.append(total_loss/len(triples))\n",
    "\n"
   ]
  },
  {
   "cell_type": "code",
   "execution_count": 39,
   "metadata": {},
   "outputs": [
    {
     "data": {
      "text/plain": [
       "Text(0, 0.5, 'Loss')"
      ]
     },
     "execution_count": 39,
     "metadata": {},
     "output_type": "execute_result"
    },
    {
     "data": {
      "image/png": "[encoded data removed]",
      "text/plain": [
       "<Figure size 432x288 with 1 Axes>"
      ]
     },
     "metadata": {
      "needs_background": "light"
     },
     "output_type": "display_data"
    }
   ],
   "source": [
    "\n",
    "plt.plot(Loss,color='RoyalBlue',marker='')\n",
    "plt.xlabel('N of epochs',fontsize=16)\n",
    "plt.ylabel('Loss',fontsize=16)"
   ]
  },
  {
   "cell_type": "code",
   "execution_count": 14,
   "metadata": {},
   "outputs": [],
   "source": [
    "epo=999\n",
    "posEn=dict(zip(entityDic_.values(),posEnData[epo]))\n",
    "posRe=dict(zip(relationDic_.values(),posReData[epo]))\n"
   ]
  },
  {
   "cell_type": "code",
   "execution_count": 42,
   "metadata": {},
   "outputs": [
    {
     "data": {
      "text/plain": [
       "array([ 0.51904124, -0.73253006], dtype=float32)"
      ]
     },
     "execution_count": 42,
     "metadata": {},
     "output_type": "execute_result"
    }
   ],
   "source": [
    "posEn['Areas']"
   ]
  },
  {
   "cell_type": "code",
   "execution_count": 9,
   "metadata": {},
   "outputs": [],
   "source": [
    "sample = kg_df.sample(n=1)"
   ]
  },
  {
   "cell_type": "code",
   "execution_count": null,
   "metadata": {},
   "outputs": [],
   "source": []
  },
  {
   "cell_type": "code",
   "execution_count": 63,
   "metadata": {},
   "outputs": [
    {
     "data": {
      "text/plain": [
       "1.5616417e-05"
      ]
     },
     "execution_count": 63,
     "metadata": {},
     "output_type": "execute_result"
    }
   ],
   "source": [
    "abs(posEn['global  temperatures'] + posRe['parched many'] - posEn['many  states']).sum()"
   ]
  },
  {
   "cell_type": "code",
   "execution_count": 65,
   "metadata": {},
   "outputs": [
    {
     "data": {
      "text/plain": [
       "2.7449846"
      ]
     },
     "execution_count": 65,
     "metadata": {},
     "output_type": "execute_result"
    }
   ],
   "source": [
    "abs(posEn['global  temperatures'] + posRe['parched many'] - posEn['like  phytoplankton']).sum()"
   ]
  },
  {
   "cell_type": "code",
   "execution_count": 18,
   "metadata": {},
   "outputs": [
    {
     "data": {
      "text/plain": [
       "0.0016376078"
      ]
     },
     "execution_count": 18,
     "metadata": {},
     "output_type": "execute_result"
    }
   ],
   "source": [
    "abs(posEn[sample['source'].values[0]] + posRe[sample['edge'].values[0]] -\n",
    "                 posEn[sample['target'].values[0]]).sum()"
   ]
  },
  {
   "cell_type": "markdown",
   "metadata": {},
   "source": [
    "Really want to emphasize proof of concept here, but again our knowledge is in agreement with this result, where phytoplankton is a concept unrelated to how global temperatures are leading to parching many, and we see how it is further in the embedding space from the true relation, which are 'many states'. "
   ]
  },
  {
   "cell_type": "markdown",
   "metadata": {},
   "source": [
    "If we wanted to further visualize the embeddings, an essential prequisite before doing so would be to classify entities properly, could possibly use the metadata provided by NASA regarding what \"topic\" this is, but an additional tool for classifiying entities may be insightful. I would consider such steps along with other notes along the way very important before bringing this to more eyes, but this is how you can start to construct a knowledge graph out of the data contained within the articles and metadata provided by NASA Earth Observatory. "
   ]
  },
  {
   "cell_type": "markdown",
   "metadata": {},
   "source": []
  }
 ],
 "metadata": {
  "interpreter": {
   "hash": "8174d00b4958810cb1e9c49820a576b372401130220808744ca9e6c5c9c8b6d0"
  },
  "kernelspec": {
   "display_name": "Python 3.9.7 ('nasaeo')",
   "language": "python",
   "name": "python3"
  },
  "language_info": {
   "codemirror_mode": {
    "name": "ipython",
    "version": 3
   },
   "file_extension": ".py",
   "mimetype": "text/x-python",
   "name": "python",
   "nbconvert_exporter": "python",
   "pygments_lexer": "ipython3",
   "version": "3.9.7"
  },
  "orig_nbformat": 4
 },
 "nbformat": 4,
 "nbformat_minor": 2
}
